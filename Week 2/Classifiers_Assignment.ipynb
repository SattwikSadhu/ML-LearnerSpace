{
  "nbformat": 4,
  "nbformat_minor": 0,
  "metadata": {
    "colab": {
      "provenance": []
    },
    "kernelspec": {
      "name": "python3",
      "display_name": "Python 3"
    },
    "language_info": {
      "name": "python"
    }
  },
  "cells": [
    {
      "cell_type": "markdown",
      "source": [
        "#WELCOME\n",
        "In this Assignment, you'll use **Classifier** to predict the output. You are allowed to write/edit between the\n",
        "```# START CODE HERE``` & ```# END CODE HERE``` only.<br>\n",
        "Don't edit the test cells otherwise you'd be failed in the assignment.\n",
        "\n",
        "Upload the ```utils.zip``` file before running the 1st cell.\n",
        "[Demo](https://drive.google.com/file/d/1ebkQR6ikjGottmxa5KL83ZWdjTLvRxbm/view?usp=share_link)\n",
        "\n",
        "**BEST OF LUCK**"
      ],
      "metadata": {
        "id": "HJM8Y9mh5o4H"
      }
    },
    {
      "cell_type": "markdown",
      "source": [
        "**RUN THIS CODE TO UNIZP THE REQUIRED FILES**"
      ],
      "metadata": {
        "id": "cEl-4aFCkdsB"
      }
    },
    {
      "cell_type": "code",
      "source": [
        "!unzip -j /content/utils.zip -d."
      ],
      "metadata": {
        "id": "mCdV1dV8kawl",
        "colab": {
          "base_uri": "https://localhost:8080/"
        },
        "outputId": "719ec9e9-b61c-44d6-f205-808b0ccb6271"
      },
      "execution_count": 1,
      "outputs": [
        {
          "output_type": "stream",
          "name": "stdout",
          "text": [
            "Archive:  /content/utils.zip\n",
            "  inflating: ./weather_classification_data.csv  \n",
            "  inflating: ./data_scaled_labeled_check.csv  \n"
          ]
        }
      ]
    },
    {
      "cell_type": "markdown",
      "source": [
        "# Dataset Loading and Pre-Processing"
      ],
      "metadata": {
        "id": "VA4ZUSGu0Ox3"
      }
    },
    {
      "cell_type": "code",
      "source": [
        "import pandas as pd\n",
        "data = pd.read_csv(\"/content/weather_classification_data.csv\")"
      ],
      "metadata": {
        "id": "_tP5JsNsqBsI"
      },
      "execution_count": 2,
      "outputs": []
    },
    {
      "cell_type": "markdown",
      "source": [
        "## Data Info\n",
        "```data.info``` gives info about data-types and number of null objects.  \n",
        "There are no null data, no need to remove any."
      ],
      "metadata": {
        "id": "MBHkfY1c0gO6"
      }
    },
    {
      "cell_type": "code",
      "source": [
        "data.info()"
      ],
      "metadata": {
        "id": "O-myJ9LmqG8J",
        "colab": {
          "base_uri": "https://localhost:8080/"
        },
        "outputId": "675a2f05-cf60-4c51-b66f-b9dfddad5fda"
      },
      "execution_count": 3,
      "outputs": [
        {
          "output_type": "stream",
          "name": "stdout",
          "text": [
            "<class 'pandas.core.frame.DataFrame'>\n",
            "RangeIndex: 13200 entries, 0 to 13199\n",
            "Data columns (total 11 columns):\n",
            " #   Column                Non-Null Count  Dtype  \n",
            "---  ------                --------------  -----  \n",
            " 0   Temperature           13200 non-null  float64\n",
            " 1   Humidity              13200 non-null  int64  \n",
            " 2   Wind Speed            13200 non-null  float64\n",
            " 3   Precipitation (%)     13200 non-null  float64\n",
            " 4   Cloud Cover           13200 non-null  object \n",
            " 5   Atmospheric Pressure  13200 non-null  float64\n",
            " 6   UV Index              13200 non-null  int64  \n",
            " 7   Season                13200 non-null  object \n",
            " 8   Visibility (km)       13200 non-null  float64\n",
            " 9   Location              13200 non-null  object \n",
            " 10  Weather Type          13200 non-null  object \n",
            "dtypes: float64(5), int64(2), object(4)\n",
            "memory usage: 1.1+ MB\n"
          ]
        }
      ]
    },
    {
      "cell_type": "markdown",
      "source": [
        "## Data Shuffling\n",
        "Data Shuffling removes any bias present and creates uniform distribution."
      ],
      "metadata": {
        "id": "98kT9K8a1LF9"
      }
    },
    {
      "cell_type": "code",
      "source": [
        "from sklearn.utils import shuffle\n",
        "data = shuffle(data)\n",
        "data.head()"
      ],
      "metadata": {
        "id": "DJ6bkcTbz8kP",
        "colab": {
          "base_uri": "https://localhost:8080/",
          "height": 258
        },
        "outputId": "8b4f7750-fc6b-406a-c321-d283c2c708e9"
      },
      "execution_count": 4,
      "outputs": [
        {
          "output_type": "execute_result",
          "data": {
            "text/plain": [
              "       Temperature  Humidity  Wind Speed  Precipitation (%)    Cloud Cover  \\\n",
              "3628          26.0        94        12.5               66.0       overcast   \n",
              "9195          30.0        25         9.5               64.0  partly cloudy   \n",
              "6567          22.0        68         8.0               22.0       overcast   \n",
              "13048         27.0        72         8.5               58.0  partly cloudy   \n",
              "814           20.0        55         6.5               42.0       overcast   \n",
              "\n",
              "       Atmospheric Pressure  UV Index  Season  Visibility (km)  Location  \\\n",
              "3628                 994.06         0  Spring              4.5  mountain   \n",
              "9195                1022.32         3  Winter             12.0   coastal   \n",
              "6567                1001.82         1  Autumn              6.5  mountain   \n",
              "13048                994.21         0  Summer              2.0   coastal   \n",
              "814                 1006.69         1  Spring              8.5   coastal   \n",
              "\n",
              "      Weather Type  \n",
              "3628         Rainy  \n",
              "9195         Snowy  \n",
              "6567        Cloudy  \n",
              "13048        Rainy  \n",
              "814         Cloudy  "
            ],
            "text/html": [
              "\n",
              "  <div id=\"df-db25b5d4-e4c9-42fd-bc8e-1d9799fcf3d8\" class=\"colab-df-container\">\n",
              "    <div>\n",
              "<style scoped>\n",
              "    .dataframe tbody tr th:only-of-type {\n",
              "        vertical-align: middle;\n",
              "    }\n",
              "\n",
              "    .dataframe tbody tr th {\n",
              "        vertical-align: top;\n",
              "    }\n",
              "\n",
              "    .dataframe thead th {\n",
              "        text-align: right;\n",
              "    }\n",
              "</style>\n",
              "<table border=\"1\" class=\"dataframe\">\n",
              "  <thead>\n",
              "    <tr style=\"text-align: right;\">\n",
              "      <th></th>\n",
              "      <th>Temperature</th>\n",
              "      <th>Humidity</th>\n",
              "      <th>Wind Speed</th>\n",
              "      <th>Precipitation (%)</th>\n",
              "      <th>Cloud Cover</th>\n",
              "      <th>Atmospheric Pressure</th>\n",
              "      <th>UV Index</th>\n",
              "      <th>Season</th>\n",
              "      <th>Visibility (km)</th>\n",
              "      <th>Location</th>\n",
              "      <th>Weather Type</th>\n",
              "    </tr>\n",
              "  </thead>\n",
              "  <tbody>\n",
              "    <tr>\n",
              "      <th>3628</th>\n",
              "      <td>26.0</td>\n",
              "      <td>94</td>\n",
              "      <td>12.5</td>\n",
              "      <td>66.0</td>\n",
              "      <td>overcast</td>\n",
              "      <td>994.06</td>\n",
              "      <td>0</td>\n",
              "      <td>Spring</td>\n",
              "      <td>4.5</td>\n",
              "      <td>mountain</td>\n",
              "      <td>Rainy</td>\n",
              "    </tr>\n",
              "    <tr>\n",
              "      <th>9195</th>\n",
              "      <td>30.0</td>\n",
              "      <td>25</td>\n",
              "      <td>9.5</td>\n",
              "      <td>64.0</td>\n",
              "      <td>partly cloudy</td>\n",
              "      <td>1022.32</td>\n",
              "      <td>3</td>\n",
              "      <td>Winter</td>\n",
              "      <td>12.0</td>\n",
              "      <td>coastal</td>\n",
              "      <td>Snowy</td>\n",
              "    </tr>\n",
              "    <tr>\n",
              "      <th>6567</th>\n",
              "      <td>22.0</td>\n",
              "      <td>68</td>\n",
              "      <td>8.0</td>\n",
              "      <td>22.0</td>\n",
              "      <td>overcast</td>\n",
              "      <td>1001.82</td>\n",
              "      <td>1</td>\n",
              "      <td>Autumn</td>\n",
              "      <td>6.5</td>\n",
              "      <td>mountain</td>\n",
              "      <td>Cloudy</td>\n",
              "    </tr>\n",
              "    <tr>\n",
              "      <th>13048</th>\n",
              "      <td>27.0</td>\n",
              "      <td>72</td>\n",
              "      <td>8.5</td>\n",
              "      <td>58.0</td>\n",
              "      <td>partly cloudy</td>\n",
              "      <td>994.21</td>\n",
              "      <td>0</td>\n",
              "      <td>Summer</td>\n",
              "      <td>2.0</td>\n",
              "      <td>coastal</td>\n",
              "      <td>Rainy</td>\n",
              "    </tr>\n",
              "    <tr>\n",
              "      <th>814</th>\n",
              "      <td>20.0</td>\n",
              "      <td>55</td>\n",
              "      <td>6.5</td>\n",
              "      <td>42.0</td>\n",
              "      <td>overcast</td>\n",
              "      <td>1006.69</td>\n",
              "      <td>1</td>\n",
              "      <td>Spring</td>\n",
              "      <td>8.5</td>\n",
              "      <td>coastal</td>\n",
              "      <td>Cloudy</td>\n",
              "    </tr>\n",
              "  </tbody>\n",
              "</table>\n",
              "</div>\n",
              "    <div class=\"colab-df-buttons\">\n",
              "\n",
              "  <div class=\"colab-df-container\">\n",
              "    <button class=\"colab-df-convert\" onclick=\"convertToInteractive('df-db25b5d4-e4c9-42fd-bc8e-1d9799fcf3d8')\"\n",
              "            title=\"Convert this dataframe to an interactive table.\"\n",
              "            style=\"display:none;\">\n",
              "\n",
              "  <svg xmlns=\"http://www.w3.org/2000/svg\" height=\"24px\" viewBox=\"0 -960 960 960\">\n",
              "    <path d=\"M120-120v-720h720v720H120Zm60-500h600v-160H180v160Zm220 220h160v-160H400v160Zm0 220h160v-160H400v160ZM180-400h160v-160H180v160Zm440 0h160v-160H620v160ZM180-180h160v-160H180v160Zm440 0h160v-160H620v160Z\"/>\n",
              "  </svg>\n",
              "    </button>\n",
              "\n",
              "  <style>\n",
              "    .colab-df-container {\n",
              "      display:flex;\n",
              "      gap: 12px;\n",
              "    }\n",
              "\n",
              "    .colab-df-convert {\n",
              "      background-color: #E8F0FE;\n",
              "      border: none;\n",
              "      border-radius: 50%;\n",
              "      cursor: pointer;\n",
              "      display: none;\n",
              "      fill: #1967D2;\n",
              "      height: 32px;\n",
              "      padding: 0 0 0 0;\n",
              "      width: 32px;\n",
              "    }\n",
              "\n",
              "    .colab-df-convert:hover {\n",
              "      background-color: #E2EBFA;\n",
              "      box-shadow: 0px 1px 2px rgba(60, 64, 67, 0.3), 0px 1px 3px 1px rgba(60, 64, 67, 0.15);\n",
              "      fill: #174EA6;\n",
              "    }\n",
              "\n",
              "    .colab-df-buttons div {\n",
              "      margin-bottom: 4px;\n",
              "    }\n",
              "\n",
              "    [theme=dark] .colab-df-convert {\n",
              "      background-color: #3B4455;\n",
              "      fill: #D2E3FC;\n",
              "    }\n",
              "\n",
              "    [theme=dark] .colab-df-convert:hover {\n",
              "      background-color: #434B5C;\n",
              "      box-shadow: 0px 1px 3px 1px rgba(0, 0, 0, 0.15);\n",
              "      filter: drop-shadow(0px 1px 2px rgba(0, 0, 0, 0.3));\n",
              "      fill: #FFFFFF;\n",
              "    }\n",
              "  </style>\n",
              "\n",
              "    <script>\n",
              "      const buttonEl =\n",
              "        document.querySelector('#df-db25b5d4-e4c9-42fd-bc8e-1d9799fcf3d8 button.colab-df-convert');\n",
              "      buttonEl.style.display =\n",
              "        google.colab.kernel.accessAllowed ? 'block' : 'none';\n",
              "\n",
              "      async function convertToInteractive(key) {\n",
              "        const element = document.querySelector('#df-db25b5d4-e4c9-42fd-bc8e-1d9799fcf3d8');\n",
              "        const dataTable =\n",
              "          await google.colab.kernel.invokeFunction('convertToInteractive',\n",
              "                                                    [key], {});\n",
              "        if (!dataTable) return;\n",
              "\n",
              "        const docLinkHtml = 'Like what you see? Visit the ' +\n",
              "          '<a target=\"_blank\" href=https://colab.research.google.com/notebooks/data_table.ipynb>data table notebook</a>'\n",
              "          + ' to learn more about interactive tables.';\n",
              "        element.innerHTML = '';\n",
              "        dataTable['output_type'] = 'display_data';\n",
              "        await google.colab.output.renderOutput(dataTable, element);\n",
              "        const docLink = document.createElement('div');\n",
              "        docLink.innerHTML = docLinkHtml;\n",
              "        element.appendChild(docLink);\n",
              "      }\n",
              "    </script>\n",
              "  </div>\n",
              "\n",
              "\n",
              "<div id=\"df-fc410f51-dd8e-410b-99bf-9c84d148f6e4\">\n",
              "  <button class=\"colab-df-quickchart\" onclick=\"quickchart('df-fc410f51-dd8e-410b-99bf-9c84d148f6e4')\"\n",
              "            title=\"Suggest charts\"\n",
              "            style=\"display:none;\">\n",
              "\n",
              "<svg xmlns=\"http://www.w3.org/2000/svg\" height=\"24px\"viewBox=\"0 0 24 24\"\n",
              "     width=\"24px\">\n",
              "    <g>\n",
              "        <path d=\"M19 3H5c-1.1 0-2 .9-2 2v14c0 1.1.9 2 2 2h14c1.1 0 2-.9 2-2V5c0-1.1-.9-2-2-2zM9 17H7v-7h2v7zm4 0h-2V7h2v10zm4 0h-2v-4h2v4z\"/>\n",
              "    </g>\n",
              "</svg>\n",
              "  </button>\n",
              "\n",
              "<style>\n",
              "  .colab-df-quickchart {\n",
              "      --bg-color: #E8F0FE;\n",
              "      --fill-color: #1967D2;\n",
              "      --hover-bg-color: #E2EBFA;\n",
              "      --hover-fill-color: #174EA6;\n",
              "      --disabled-fill-color: #AAA;\n",
              "      --disabled-bg-color: #DDD;\n",
              "  }\n",
              "\n",
              "  [theme=dark] .colab-df-quickchart {\n",
              "      --bg-color: #3B4455;\n",
              "      --fill-color: #D2E3FC;\n",
              "      --hover-bg-color: #434B5C;\n",
              "      --hover-fill-color: #FFFFFF;\n",
              "      --disabled-bg-color: #3B4455;\n",
              "      --disabled-fill-color: #666;\n",
              "  }\n",
              "\n",
              "  .colab-df-quickchart {\n",
              "    background-color: var(--bg-color);\n",
              "    border: none;\n",
              "    border-radius: 50%;\n",
              "    cursor: pointer;\n",
              "    display: none;\n",
              "    fill: var(--fill-color);\n",
              "    height: 32px;\n",
              "    padding: 0;\n",
              "    width: 32px;\n",
              "  }\n",
              "\n",
              "  .colab-df-quickchart:hover {\n",
              "    background-color: var(--hover-bg-color);\n",
              "    box-shadow: 0 1px 2px rgba(60, 64, 67, 0.3), 0 1px 3px 1px rgba(60, 64, 67, 0.15);\n",
              "    fill: var(--button-hover-fill-color);\n",
              "  }\n",
              "\n",
              "  .colab-df-quickchart-complete:disabled,\n",
              "  .colab-df-quickchart-complete:disabled:hover {\n",
              "    background-color: var(--disabled-bg-color);\n",
              "    fill: var(--disabled-fill-color);\n",
              "    box-shadow: none;\n",
              "  }\n",
              "\n",
              "  .colab-df-spinner {\n",
              "    border: 2px solid var(--fill-color);\n",
              "    border-color: transparent;\n",
              "    border-bottom-color: var(--fill-color);\n",
              "    animation:\n",
              "      spin 1s steps(1) infinite;\n",
              "  }\n",
              "\n",
              "  @keyframes spin {\n",
              "    0% {\n",
              "      border-color: transparent;\n",
              "      border-bottom-color: var(--fill-color);\n",
              "      border-left-color: var(--fill-color);\n",
              "    }\n",
              "    20% {\n",
              "      border-color: transparent;\n",
              "      border-left-color: var(--fill-color);\n",
              "      border-top-color: var(--fill-color);\n",
              "    }\n",
              "    30% {\n",
              "      border-color: transparent;\n",
              "      border-left-color: var(--fill-color);\n",
              "      border-top-color: var(--fill-color);\n",
              "      border-right-color: var(--fill-color);\n",
              "    }\n",
              "    40% {\n",
              "      border-color: transparent;\n",
              "      border-right-color: var(--fill-color);\n",
              "      border-top-color: var(--fill-color);\n",
              "    }\n",
              "    60% {\n",
              "      border-color: transparent;\n",
              "      border-right-color: var(--fill-color);\n",
              "    }\n",
              "    80% {\n",
              "      border-color: transparent;\n",
              "      border-right-color: var(--fill-color);\n",
              "      border-bottom-color: var(--fill-color);\n",
              "    }\n",
              "    90% {\n",
              "      border-color: transparent;\n",
              "      border-bottom-color: var(--fill-color);\n",
              "    }\n",
              "  }\n",
              "</style>\n",
              "\n",
              "  <script>\n",
              "    async function quickchart(key) {\n",
              "      const quickchartButtonEl =\n",
              "        document.querySelector('#' + key + ' button');\n",
              "      quickchartButtonEl.disabled = true;  // To prevent multiple clicks.\n",
              "      quickchartButtonEl.classList.add('colab-df-spinner');\n",
              "      try {\n",
              "        const charts = await google.colab.kernel.invokeFunction(\n",
              "            'suggestCharts', [key], {});\n",
              "      } catch (error) {\n",
              "        console.error('Error during call to suggestCharts:', error);\n",
              "      }\n",
              "      quickchartButtonEl.classList.remove('colab-df-spinner');\n",
              "      quickchartButtonEl.classList.add('colab-df-quickchart-complete');\n",
              "    }\n",
              "    (() => {\n",
              "      let quickchartButtonEl =\n",
              "        document.querySelector('#df-fc410f51-dd8e-410b-99bf-9c84d148f6e4 button');\n",
              "      quickchartButtonEl.style.display =\n",
              "        google.colab.kernel.accessAllowed ? 'block' : 'none';\n",
              "    })();\n",
              "  </script>\n",
              "</div>\n",
              "\n",
              "    </div>\n",
              "  </div>\n"
            ],
            "application/vnd.google.colaboratory.intrinsic+json": {
              "type": "dataframe",
              "variable_name": "data",
              "summary": "{\n  \"name\": \"data\",\n  \"rows\": 13200,\n  \"fields\": [\n    {\n      \"column\": \"Temperature\",\n      \"properties\": {\n        \"dtype\": \"number\",\n        \"std\": 17.386326582360788,\n        \"min\": -25.0,\n        \"max\": 109.0,\n        \"num_unique_values\": 126,\n        \"samples\": [\n          5.0,\n          37.0,\n          80.0\n        ],\n        \"semantic_type\": \"\",\n        \"description\": \"\"\n      }\n    },\n    {\n      \"column\": \"Humidity\",\n      \"properties\": {\n        \"dtype\": \"number\",\n        \"std\": 20,\n        \"min\": 20,\n        \"max\": 109,\n        \"num_unique_values\": 90,\n        \"samples\": [\n          46,\n          97,\n          69\n        ],\n        \"semantic_type\": \"\",\n        \"description\": \"\"\n      }\n    },\n    {\n      \"column\": \"Wind Speed\",\n      \"properties\": {\n        \"dtype\": \"number\",\n        \"std\": 6.908704141531295,\n        \"min\": 0.0,\n        \"max\": 48.5,\n        \"num_unique_values\": 97,\n        \"samples\": [\n          30.5,\n          25.0,\n          46.0\n        ],\n        \"semantic_type\": \"\",\n        \"description\": \"\"\n      }\n    },\n    {\n      \"column\": \"Precipitation (%)\",\n      \"properties\": {\n        \"dtype\": \"number\",\n        \"std\": 31.946540769981375,\n        \"min\": 0.0,\n        \"max\": 109.0,\n        \"num_unique_values\": 110,\n        \"samples\": [\n          86.0,\n          19.0,\n          42.0\n        ],\n        \"semantic_type\": \"\",\n        \"description\": \"\"\n      }\n    },\n    {\n      \"column\": \"Cloud Cover\",\n      \"properties\": {\n        \"dtype\": \"category\",\n        \"num_unique_values\": 4,\n        \"samples\": [\n          \"partly cloudy\",\n          \"cloudy\",\n          \"overcast\"\n        ],\n        \"semantic_type\": \"\",\n        \"description\": \"\"\n      }\n    },\n    {\n      \"column\": \"Atmospheric Pressure\",\n      \"properties\": {\n        \"dtype\": \"number\",\n        \"std\": 37.199588697503295,\n        \"min\": 800.12,\n        \"max\": 1199.21,\n        \"num_unique_values\": 5456,\n        \"samples\": [\n          989.73,\n          1019.72,\n          1012.95\n        ],\n        \"semantic_type\": \"\",\n        \"description\": \"\"\n      }\n    },\n    {\n      \"column\": \"UV Index\",\n      \"properties\": {\n        \"dtype\": \"number\",\n        \"std\": 3,\n        \"min\": 0,\n        \"max\": 14,\n        \"num_unique_values\": 15,\n        \"samples\": [\n          6,\n          7,\n          0\n        ],\n        \"semantic_type\": \"\",\n        \"description\": \"\"\n      }\n    },\n    {\n      \"column\": \"Season\",\n      \"properties\": {\n        \"dtype\": \"category\",\n        \"num_unique_values\": 4,\n        \"samples\": [\n          \"Winter\",\n          \"Summer\",\n          \"Spring\"\n        ],\n        \"semantic_type\": \"\",\n        \"description\": \"\"\n      }\n    },\n    {\n      \"column\": \"Visibility (km)\",\n      \"properties\": {\n        \"dtype\": \"number\",\n        \"std\": 3.3714989103539494,\n        \"min\": 0.0,\n        \"max\": 20.0,\n        \"num_unique_values\": 41,\n        \"samples\": [\n          10.5,\n          8.0,\n          7.5\n        ],\n        \"semantic_type\": \"\",\n        \"description\": \"\"\n      }\n    },\n    {\n      \"column\": \"Location\",\n      \"properties\": {\n        \"dtype\": \"category\",\n        \"num_unique_values\": 3,\n        \"samples\": [\n          \"mountain\",\n          \"coastal\",\n          \"inland\"\n        ],\n        \"semantic_type\": \"\",\n        \"description\": \"\"\n      }\n    },\n    {\n      \"column\": \"Weather Type\",\n      \"properties\": {\n        \"dtype\": \"category\",\n        \"num_unique_values\": 4,\n        \"samples\": [\n          \"Snowy\",\n          \"Sunny\",\n          \"Rainy\"\n        ],\n        \"semantic_type\": \"\",\n        \"description\": \"\"\n      }\n    }\n  ]\n}"
            }
          },
          "metadata": {},
          "execution_count": 4
        }
      ]
    },
    {
      "cell_type": "markdown",
      "source": [
        "## Scaling and Labeling\n",
        "Machine can't understand string so all the object datatypes need to be LABELED with integers.<br><br>\n",
        "Why SCALING?<br>\n",
        "You might have noticed one column contains data with large values (of order 1000) whereas some column contain small value data (of order 10). As a result, large value columns get more power/importance than others. To remove this disparity we scaled them to same order/values."
      ],
      "metadata": {
        "id": "7vKEzz9j19WQ"
      }
    },
    {
      "cell_type": "markdown",
      "source": [
        "**CODE**\n",
        "\n",
        "We need to find the columns with object datatypes.\n",
        "\n",
        "HINT: Use ```data.select_dtypes().columns.tolist()```<br>Reference: [w3schools](https://www.w3schools.com/python/pandas/ref_df_select_dtypes.asp#:~:text=The%20select_dtypes()%20method%20returns,the%20specified%20dtype(s).&text=Note%3A%20You%20must%20specify%20at,you%20will%20get%20an%20error.)"
      ],
      "metadata": {
        "id": "TBg-lPJgzM4Y"
      }
    },
    {
      "cell_type": "code",
      "source": [
        "# START CODE HERE\n",
        "object_columns = data.select_dtypes(object).columns.tolist()\n",
        "non_object_columns = [i for i in data.columns.tolist() if i not in object_columns]\n",
        "# END CODE HERE\n",
        "print(f\"Object Columns: {object_columns}\\nNon Object Columns: {non_object_columns}\")"
      ],
      "metadata": {
        "id": "cIIKd53NpRKU",
        "colab": {
          "base_uri": "https://localhost:8080/"
        },
        "outputId": "36ca9173-e994-4caf-ce38-dcb0416eb6e3"
      },
      "execution_count": 8,
      "outputs": [
        {
          "output_type": "stream",
          "name": "stdout",
          "text": [
            "Object Columns: ['Cloud Cover', 'Season', 'Location', 'Weather Type']\n",
            "Non Object Columns: ['Temperature', 'Humidity', 'Wind Speed', 'Precipitation (%)', 'Atmospheric Pressure', 'UV Index', 'Visibility (km)']\n"
          ]
        }
      ]
    },
    {
      "cell_type": "markdown",
      "source": [
        "**TEST** (DON'T EDIT THIS CELL)"
      ],
      "metadata": {
        "id": "KYlrJpdaAyKH"
      }
    },
    {
      "cell_type": "code",
      "source": [
        "# DON'T EDIT THIS CELL\n",
        "if (object_columns == ['Cloud Cover', 'Season', 'Location', 'Weather Type'] and non_object_columns == ['Temperature', 'Humidity', 'Wind Speed', 'Precipitation (%)', 'Atmospheric Pressure', 'UV Index', 'Visibility (km)']):\n",
        "  print(f\"\\033[32mTest Passed\\033[0m\")\n",
        "else:\n",
        "  print(f\"\\033[31mTest Failed\\033[0m\")"
      ],
      "metadata": {
        "id": "z4-pWLR5_fVf",
        "colab": {
          "base_uri": "https://localhost:8080/"
        },
        "outputId": "1e4960ac-0b82-4101-b389-a265d80ed185"
      },
      "execution_count": 9,
      "outputs": [
        {
          "output_type": "stream",
          "name": "stdout",
          "text": [
            "\u001b[32mTest Passed\u001b[0m\n"
          ]
        }
      ]
    },
    {
      "cell_type": "markdown",
      "source": [
        "**CODE**\n",
        "\n",
        "We need to convert the object-type columns data into integral labels and scale the non-object-type columns data.\n",
        "\n",
        "HINT: Use ```ColumnTransformer()```<br>Reference: [scikit-learn](https://scikit-learn.org/stable/modules/generated/sklearn.compose.ColumnTransformer.html), [ChatGPT](https://chatgpt.com/c/7f3c1b02-5da0-4c34-bdb2-d999dccb9c2f)"
      ],
      "metadata": {
        "id": "reVHprk6z_nD"
      }
    },
    {
      "cell_type": "code",
      "source": [
        "from sklearn.preprocessing import OrdinalEncoder, StandardScaler\n",
        "from sklearn.compose import ColumnTransformer\n",
        "\n",
        "# START CODE HERE\n",
        "\n",
        "column_transformer = ColumnTransformer([('non_numerical',OrdinalEncoder(),object_columns),('numerical',StandardScaler(),non_object_columns)])\n",
        "\n",
        "# Fit and transform the data\n",
        "data_scaled_labeled = column_transformer.fit_transform(data)\n",
        "\n",
        "# END CODE HERE\n",
        "\n",
        "all_columns = object_columns + non_object_columns\n",
        "\n",
        "# Create the new DataFrame\n",
        "data_scaled_labeled = pd.DataFrame(data_scaled_labeled, columns=all_columns)"
      ],
      "metadata": {
        "id": "kVT5qfqarRhF"
      },
      "execution_count": 15,
      "outputs": []
    },
    {
      "cell_type": "markdown",
      "source": [
        "**TEST** (DON'T EDIT THIS CELL)"
      ],
      "metadata": {
        "id": "2AvKGjfJk3cY"
      }
    },
    {
      "cell_type": "code",
      "source": [
        "# DON'T EDIT THIS CELL\n",
        "\n",
        "data_scaled_labeled_check = pd.read_csv(\"/content/data_scaled_labeled_check.csv\")\n",
        "import numpy as np\n",
        "data_scaled_labeled_values = np.sort(data_scaled_labeled.values,axis=0)\n",
        "data_scaled_labeled_check_values = np.sort(data_scaled_labeled_check.values,axis=0)\n",
        "if np.allclose(data_scaled_labeled_values, data_scaled_labeled_check_values, equal_nan=True):\n",
        "  print(f\"\\033[32mTest Passed\\033[0m\")\n",
        "else:\n",
        "  print(f\"\\033[31mTest Failed\\033[0m\")"
      ],
      "metadata": {
        "id": "7mT4H6o5D-mN",
        "colab": {
          "base_uri": "https://localhost:8080/"
        },
        "outputId": "a2e4b6e7-d22f-4ff0-f5e8-18fdc08af570"
      },
      "execution_count": 16,
      "outputs": [
        {
          "output_type": "stream",
          "name": "stdout",
          "text": [
            "\u001b[32mTest Passed\u001b[0m\n"
          ]
        }
      ]
    },
    {
      "cell_type": "markdown",
      "source": [
        "## Data Splitting"
      ],
      "metadata": {
        "id": "wpIxEziM2EYr"
      }
    },
    {
      "cell_type": "markdown",
      "source": [
        "**CODE**\n",
        "\n",
        "We need to drop the Weather Type column from data_scaled_labeled to get the X and pick Weather Type column to get Y\n",
        "\n",
        "Use 90-10 split of data, i.e. 90% for training, 10% for testing"
      ],
      "metadata": {
        "id": "GKCxivFq1rjB"
      }
    },
    {
      "cell_type": "code",
      "source": [
        "X = data_scaled_labeled.drop(columns=['Weather Type'])\n",
        "y = data_scaled_labeled['Weather Type']\n",
        "\n",
        "from sklearn.model_selection import train_test_split\n",
        "\n",
        "X_train, X_test, y_train, y_test = train_test_split(X,y, train_size = .9, random_state = 10)"
      ],
      "metadata": {
        "id": "e-gDICS-mZYG"
      },
      "execution_count": 31,
      "outputs": []
    },
    {
      "cell_type": "markdown",
      "source": [
        "**TEST** (DON'T EDIT THIS CELL)"
      ],
      "metadata": {
        "id": "WjR9MqGMpJ82"
      }
    },
    {
      "cell_type": "code",
      "source": [
        "# DON'T EDIT THIS CELL\n",
        "\n",
        "if (len(X_train)==11880 and len(X_test)==1320):\n",
        "  print(f\"\\033[32mTest Passed\\033[0m\")\n",
        "else:\n",
        "  print(f\"\\033[31mTest Failed\\033[0m\")\n",
        "\n",
        "if (len(y_train)==11880 and len(y_test)==1320):\n",
        "  print(f\"\\033[32mTest Passed\\033[0m\")\n",
        "else:\n",
        "  print(f\"\\033[31mTest Failed\\033[0m\")"
      ],
      "metadata": {
        "id": "q5ZtYcaxKzFK",
        "colab": {
          "base_uri": "https://localhost:8080/"
        },
        "outputId": "4bbcea3c-cb4b-414e-d65f-e4ee1947ced9"
      },
      "execution_count": 32,
      "outputs": [
        {
          "output_type": "stream",
          "name": "stdout",
          "text": [
            "\u001b[32mTest Passed\u001b[0m\n",
            "\u001b[32mTest Passed\u001b[0m\n"
          ]
        }
      ]
    },
    {
      "cell_type": "code",
      "source": [
        "X_train.head()"
      ],
      "metadata": {
        "id": "uwYLbRwPzNBd",
        "colab": {
          "base_uri": "https://localhost:8080/",
          "height": 224
        },
        "outputId": "cd338c0a-e8e4-4d15-f576-9ff234ceda95"
      },
      "execution_count": 36,
      "outputs": [
        {
          "output_type": "execute_result",
          "data": {
            "text/plain": [
              "       Cloud Cover  Season  Location  Temperature  Humidity  Wind Speed  \\\n",
              "7017           2.0     0.0       2.0     0.452811  0.460008   -0.192836   \n",
              "12278          2.0     2.0       2.0    -0.525006  0.261924    0.675666   \n",
              "2859           3.0     3.0       2.0     0.510330 -0.431369    0.313790   \n",
              "5495           3.0     3.0       1.0     0.222737  0.311445    0.458541   \n",
              "8469           2.0     3.0       1.0    -0.985155  0.410487   -0.192836   \n",
              "\n",
              "       Precipitation (%)  Atmospheric Pressure  UV Index  Visibility (km)  \n",
              "7017            0.887629              0.240929 -0.779410        -0.285616  \n",
              "12278           0.543291             -0.071990 -0.779410        -1.323769  \n",
              "2859            0.324167             -0.395931 -0.520104        -1.175461  \n",
              "5495           -0.176689              0.332600 -0.520104         0.900845  \n",
              "8469            0.856326             -0.371467 -1.038715        -1.175461  "
            ],
            "text/html": [
              "\n",
              "  <div id=\"df-246d2514-8cab-468f-aba5-24c55d0f821e\" class=\"colab-df-container\">\n",
              "    <div>\n",
              "<style scoped>\n",
              "    .dataframe tbody tr th:only-of-type {\n",
              "        vertical-align: middle;\n",
              "    }\n",
              "\n",
              "    .dataframe tbody tr th {\n",
              "        vertical-align: top;\n",
              "    }\n",
              "\n",
              "    .dataframe thead th {\n",
              "        text-align: right;\n",
              "    }\n",
              "</style>\n",
              "<table border=\"1\" class=\"dataframe\">\n",
              "  <thead>\n",
              "    <tr style=\"text-align: right;\">\n",
              "      <th></th>\n",
              "      <th>Cloud Cover</th>\n",
              "      <th>Season</th>\n",
              "      <th>Location</th>\n",
              "      <th>Temperature</th>\n",
              "      <th>Humidity</th>\n",
              "      <th>Wind Speed</th>\n",
              "      <th>Precipitation (%)</th>\n",
              "      <th>Atmospheric Pressure</th>\n",
              "      <th>UV Index</th>\n",
              "      <th>Visibility (km)</th>\n",
              "    </tr>\n",
              "  </thead>\n",
              "  <tbody>\n",
              "    <tr>\n",
              "      <th>7017</th>\n",
              "      <td>2.0</td>\n",
              "      <td>0.0</td>\n",
              "      <td>2.0</td>\n",
              "      <td>0.452811</td>\n",
              "      <td>0.460008</td>\n",
              "      <td>-0.192836</td>\n",
              "      <td>0.887629</td>\n",
              "      <td>0.240929</td>\n",
              "      <td>-0.779410</td>\n",
              "      <td>-0.285616</td>\n",
              "    </tr>\n",
              "    <tr>\n",
              "      <th>12278</th>\n",
              "      <td>2.0</td>\n",
              "      <td>2.0</td>\n",
              "      <td>2.0</td>\n",
              "      <td>-0.525006</td>\n",
              "      <td>0.261924</td>\n",
              "      <td>0.675666</td>\n",
              "      <td>0.543291</td>\n",
              "      <td>-0.071990</td>\n",
              "      <td>-0.779410</td>\n",
              "      <td>-1.323769</td>\n",
              "    </tr>\n",
              "    <tr>\n",
              "      <th>2859</th>\n",
              "      <td>3.0</td>\n",
              "      <td>3.0</td>\n",
              "      <td>2.0</td>\n",
              "      <td>0.510330</td>\n",
              "      <td>-0.431369</td>\n",
              "      <td>0.313790</td>\n",
              "      <td>0.324167</td>\n",
              "      <td>-0.395931</td>\n",
              "      <td>-0.520104</td>\n",
              "      <td>-1.175461</td>\n",
              "    </tr>\n",
              "    <tr>\n",
              "      <th>5495</th>\n",
              "      <td>3.0</td>\n",
              "      <td>3.0</td>\n",
              "      <td>1.0</td>\n",
              "      <td>0.222737</td>\n",
              "      <td>0.311445</td>\n",
              "      <td>0.458541</td>\n",
              "      <td>-0.176689</td>\n",
              "      <td>0.332600</td>\n",
              "      <td>-0.520104</td>\n",
              "      <td>0.900845</td>\n",
              "    </tr>\n",
              "    <tr>\n",
              "      <th>8469</th>\n",
              "      <td>2.0</td>\n",
              "      <td>3.0</td>\n",
              "      <td>1.0</td>\n",
              "      <td>-0.985155</td>\n",
              "      <td>0.410487</td>\n",
              "      <td>-0.192836</td>\n",
              "      <td>0.856326</td>\n",
              "      <td>-0.371467</td>\n",
              "      <td>-1.038715</td>\n",
              "      <td>-1.175461</td>\n",
              "    </tr>\n",
              "  </tbody>\n",
              "</table>\n",
              "</div>\n",
              "    <div class=\"colab-df-buttons\">\n",
              "\n",
              "  <div class=\"colab-df-container\">\n",
              "    <button class=\"colab-df-convert\" onclick=\"convertToInteractive('df-246d2514-8cab-468f-aba5-24c55d0f821e')\"\n",
              "            title=\"Convert this dataframe to an interactive table.\"\n",
              "            style=\"display:none;\">\n",
              "\n",
              "  <svg xmlns=\"http://www.w3.org/2000/svg\" height=\"24px\" viewBox=\"0 -960 960 960\">\n",
              "    <path d=\"M120-120v-720h720v720H120Zm60-500h600v-160H180v160Zm220 220h160v-160H400v160Zm0 220h160v-160H400v160ZM180-400h160v-160H180v160Zm440 0h160v-160H620v160ZM180-180h160v-160H180v160Zm440 0h160v-160H620v160Z\"/>\n",
              "  </svg>\n",
              "    </button>\n",
              "\n",
              "  <style>\n",
              "    .colab-df-container {\n",
              "      display:flex;\n",
              "      gap: 12px;\n",
              "    }\n",
              "\n",
              "    .colab-df-convert {\n",
              "      background-color: #E8F0FE;\n",
              "      border: none;\n",
              "      border-radius: 50%;\n",
              "      cursor: pointer;\n",
              "      display: none;\n",
              "      fill: #1967D2;\n",
              "      height: 32px;\n",
              "      padding: 0 0 0 0;\n",
              "      width: 32px;\n",
              "    }\n",
              "\n",
              "    .colab-df-convert:hover {\n",
              "      background-color: #E2EBFA;\n",
              "      box-shadow: 0px 1px 2px rgba(60, 64, 67, 0.3), 0px 1px 3px 1px rgba(60, 64, 67, 0.15);\n",
              "      fill: #174EA6;\n",
              "    }\n",
              "\n",
              "    .colab-df-buttons div {\n",
              "      margin-bottom: 4px;\n",
              "    }\n",
              "\n",
              "    [theme=dark] .colab-df-convert {\n",
              "      background-color: #3B4455;\n",
              "      fill: #D2E3FC;\n",
              "    }\n",
              "\n",
              "    [theme=dark] .colab-df-convert:hover {\n",
              "      background-color: #434B5C;\n",
              "      box-shadow: 0px 1px 3px 1px rgba(0, 0, 0, 0.15);\n",
              "      filter: drop-shadow(0px 1px 2px rgba(0, 0, 0, 0.3));\n",
              "      fill: #FFFFFF;\n",
              "    }\n",
              "  </style>\n",
              "\n",
              "    <script>\n",
              "      const buttonEl =\n",
              "        document.querySelector('#df-246d2514-8cab-468f-aba5-24c55d0f821e button.colab-df-convert');\n",
              "      buttonEl.style.display =\n",
              "        google.colab.kernel.accessAllowed ? 'block' : 'none';\n",
              "\n",
              "      async function convertToInteractive(key) {\n",
              "        const element = document.querySelector('#df-246d2514-8cab-468f-aba5-24c55d0f821e');\n",
              "        const dataTable =\n",
              "          await google.colab.kernel.invokeFunction('convertToInteractive',\n",
              "                                                    [key], {});\n",
              "        if (!dataTable) return;\n",
              "\n",
              "        const docLinkHtml = 'Like what you see? Visit the ' +\n",
              "          '<a target=\"_blank\" href=https://colab.research.google.com/notebooks/data_table.ipynb>data table notebook</a>'\n",
              "          + ' to learn more about interactive tables.';\n",
              "        element.innerHTML = '';\n",
              "        dataTable['output_type'] = 'display_data';\n",
              "        await google.colab.output.renderOutput(dataTable, element);\n",
              "        const docLink = document.createElement('div');\n",
              "        docLink.innerHTML = docLinkHtml;\n",
              "        element.appendChild(docLink);\n",
              "      }\n",
              "    </script>\n",
              "  </div>\n",
              "\n",
              "\n",
              "<div id=\"df-18446540-448a-4ea4-9498-d04a3972c716\">\n",
              "  <button class=\"colab-df-quickchart\" onclick=\"quickchart('df-18446540-448a-4ea4-9498-d04a3972c716')\"\n",
              "            title=\"Suggest charts\"\n",
              "            style=\"display:none;\">\n",
              "\n",
              "<svg xmlns=\"http://www.w3.org/2000/svg\" height=\"24px\"viewBox=\"0 0 24 24\"\n",
              "     width=\"24px\">\n",
              "    <g>\n",
              "        <path d=\"M19 3H5c-1.1 0-2 .9-2 2v14c0 1.1.9 2 2 2h14c1.1 0 2-.9 2-2V5c0-1.1-.9-2-2-2zM9 17H7v-7h2v7zm4 0h-2V7h2v10zm4 0h-2v-4h2v4z\"/>\n",
              "    </g>\n",
              "</svg>\n",
              "  </button>\n",
              "\n",
              "<style>\n",
              "  .colab-df-quickchart {\n",
              "      --bg-color: #E8F0FE;\n",
              "      --fill-color: #1967D2;\n",
              "      --hover-bg-color: #E2EBFA;\n",
              "      --hover-fill-color: #174EA6;\n",
              "      --disabled-fill-color: #AAA;\n",
              "      --disabled-bg-color: #DDD;\n",
              "  }\n",
              "\n",
              "  [theme=dark] .colab-df-quickchart {\n",
              "      --bg-color: #3B4455;\n",
              "      --fill-color: #D2E3FC;\n",
              "      --hover-bg-color: #434B5C;\n",
              "      --hover-fill-color: #FFFFFF;\n",
              "      --disabled-bg-color: #3B4455;\n",
              "      --disabled-fill-color: #666;\n",
              "  }\n",
              "\n",
              "  .colab-df-quickchart {\n",
              "    background-color: var(--bg-color);\n",
              "    border: none;\n",
              "    border-radius: 50%;\n",
              "    cursor: pointer;\n",
              "    display: none;\n",
              "    fill: var(--fill-color);\n",
              "    height: 32px;\n",
              "    padding: 0;\n",
              "    width: 32px;\n",
              "  }\n",
              "\n",
              "  .colab-df-quickchart:hover {\n",
              "    background-color: var(--hover-bg-color);\n",
              "    box-shadow: 0 1px 2px rgba(60, 64, 67, 0.3), 0 1px 3px 1px rgba(60, 64, 67, 0.15);\n",
              "    fill: var(--button-hover-fill-color);\n",
              "  }\n",
              "\n",
              "  .colab-df-quickchart-complete:disabled,\n",
              "  .colab-df-quickchart-complete:disabled:hover {\n",
              "    background-color: var(--disabled-bg-color);\n",
              "    fill: var(--disabled-fill-color);\n",
              "    box-shadow: none;\n",
              "  }\n",
              "\n",
              "  .colab-df-spinner {\n",
              "    border: 2px solid var(--fill-color);\n",
              "    border-color: transparent;\n",
              "    border-bottom-color: var(--fill-color);\n",
              "    animation:\n",
              "      spin 1s steps(1) infinite;\n",
              "  }\n",
              "\n",
              "  @keyframes spin {\n",
              "    0% {\n",
              "      border-color: transparent;\n",
              "      border-bottom-color: var(--fill-color);\n",
              "      border-left-color: var(--fill-color);\n",
              "    }\n",
              "    20% {\n",
              "      border-color: transparent;\n",
              "      border-left-color: var(--fill-color);\n",
              "      border-top-color: var(--fill-color);\n",
              "    }\n",
              "    30% {\n",
              "      border-color: transparent;\n",
              "      border-left-color: var(--fill-color);\n",
              "      border-top-color: var(--fill-color);\n",
              "      border-right-color: var(--fill-color);\n",
              "    }\n",
              "    40% {\n",
              "      border-color: transparent;\n",
              "      border-right-color: var(--fill-color);\n",
              "      border-top-color: var(--fill-color);\n",
              "    }\n",
              "    60% {\n",
              "      border-color: transparent;\n",
              "      border-right-color: var(--fill-color);\n",
              "    }\n",
              "    80% {\n",
              "      border-color: transparent;\n",
              "      border-right-color: var(--fill-color);\n",
              "      border-bottom-color: var(--fill-color);\n",
              "    }\n",
              "    90% {\n",
              "      border-color: transparent;\n",
              "      border-bottom-color: var(--fill-color);\n",
              "    }\n",
              "  }\n",
              "</style>\n",
              "\n",
              "  <script>\n",
              "    async function quickchart(key) {\n",
              "      const quickchartButtonEl =\n",
              "        document.querySelector('#' + key + ' button');\n",
              "      quickchartButtonEl.disabled = true;  // To prevent multiple clicks.\n",
              "      quickchartButtonEl.classList.add('colab-df-spinner');\n",
              "      try {\n",
              "        const charts = await google.colab.kernel.invokeFunction(\n",
              "            'suggestCharts', [key], {});\n",
              "      } catch (error) {\n",
              "        console.error('Error during call to suggestCharts:', error);\n",
              "      }\n",
              "      quickchartButtonEl.classList.remove('colab-df-spinner');\n",
              "      quickchartButtonEl.classList.add('colab-df-quickchart-complete');\n",
              "    }\n",
              "    (() => {\n",
              "      let quickchartButtonEl =\n",
              "        document.querySelector('#df-18446540-448a-4ea4-9498-d04a3972c716 button');\n",
              "      quickchartButtonEl.style.display =\n",
              "        google.colab.kernel.accessAllowed ? 'block' : 'none';\n",
              "    })();\n",
              "  </script>\n",
              "</div>\n",
              "\n",
              "    </div>\n",
              "  </div>\n"
            ],
            "application/vnd.google.colaboratory.intrinsic+json": {
              "type": "dataframe",
              "variable_name": "X_train",
              "summary": "{\n  \"name\": \"X_train\",\n  \"rows\": 11880,\n  \"fields\": [\n    {\n      \"column\": \"Cloud Cover\",\n      \"properties\": {\n        \"dtype\": \"number\",\n        \"std\": 1.0104471927891296,\n        \"min\": 0.0,\n        \"max\": 3.0,\n        \"num_unique_values\": 4,\n        \"samples\": [\n          3.0,\n          1.0,\n          2.0\n        ],\n        \"semantic_type\": \"\",\n        \"description\": \"\"\n      }\n    },\n    {\n      \"column\": \"Season\",\n      \"properties\": {\n        \"dtype\": \"number\",\n        \"std\": 1.1629866358995666,\n        \"min\": 0.0,\n        \"max\": 3.0,\n        \"num_unique_values\": 4,\n        \"samples\": [\n          2.0,\n          1.0,\n          0.0\n        ],\n        \"semantic_type\": \"\",\n        \"description\": \"\"\n      }\n    },\n    {\n      \"column\": \"Location\",\n      \"properties\": {\n        \"dtype\": \"number\",\n        \"std\": 0.7909606520701092,\n        \"min\": 0.0,\n        \"max\": 2.0,\n        \"num_unique_values\": 3,\n        \"samples\": [\n          2.0,\n          1.0,\n          0.0\n        ],\n        \"semantic_type\": \"\",\n        \"description\": \"\"\n      }\n    },\n    {\n      \"column\": \"Temperature\",\n      \"properties\": {\n        \"dtype\": \"number\",\n        \"std\": 0.9961517575090932,\n        \"min\": -2.5381581982019203,\n        \"max\": 5.1118210849428385,\n        \"num_unique_values\": 125,\n        \"samples\": [\n          2.005814458703613,\n          0.9129602753972187,\n          2.9261127183300504\n        ],\n        \"semantic_type\": \"\",\n        \"description\": \"\"\n      }\n    },\n    {\n      \"column\": \"Humidity\",\n      \"properties\": {\n        \"dtype\": \"number\",\n        \"std\": 0.9975433018006324,\n        \"min\": -2.412205610571191,\n        \"max\": 1.9951568722612254,\n        \"num_unique_values\": 90,\n        \"samples\": [\n          0.6580918493794811,\n          0.014319801325307918,\n          0.7571337029262769\n        ],\n        \"semantic_type\": \"\",\n        \"description\": \"\"\n      }\n    },\n    {\n      \"column\": \"Wind Speed\",\n      \"properties\": {\n        \"dtype\": \"number\",\n        \"std\": 1.0006144719812815,\n        \"min\": -1.4232147188724793,\n        \"max\": 5.597181035815361,\n        \"num_unique_values\": 96,\n        \"samples\": [\n          3.136423760976324,\n          4.004926328566572,\n          4.294427184429988\n        ],\n        \"semantic_type\": \"\",\n        \"description\": \"\"\n      }\n    },\n    {\n      \"column\": \"Precipitation (%)\",\n      \"properties\": {\n        \"dtype\": \"number\",\n        \"std\": 0.9984006052053818,\n        \"min\": -1.6792561806842878,\n        \"max\": 1.7328230740721378,\n        \"num_unique_values\": 110,\n        \"samples\": [\n          -1.2723109484656316,\n          -1.2097039896627615,\n          0.8563256508319551\n        ],\n        \"semantic_type\": \"\",\n        \"description\": \"\"\n      }\n    },\n    {\n      \"column\": \"Atmospheric Pressure\",\n      \"properties\": {\n        \"dtype\": \"number\",\n        \"std\": 1.003318132995739,\n        \"min\": -5.530052772719152,\n        \"max\": 5.198698051647312,\n        \"num_unique_values\": 5219,\n        \"samples\": [\n          -0.5236249844464151,\n          0.146837932589088,\n          0.08957706597779601\n        ],\n        \"semantic_type\": \"\",\n        \"description\": \"\"\n      }\n    },\n    {\n      \"column\": \"UV Index\",\n      \"properties\": {\n        \"dtype\": \"number\",\n        \"std\": 0.9980437466162044,\n        \"min\": -1.0387151745577339,\n        \"max\": 2.5915625366584933,\n        \"num_unique_values\": 15,\n        \"samples\": [\n          1.554340333453857,\n          2.332256985857334,\n          -0.7794096237565749\n        ],\n        \"semantic_type\": \"\",\n        \"description\": \"\"\n      }\n    },\n    {\n      \"column\": \"Visibility (km)\",\n      \"properties\": {\n        \"dtype\": \"number\",\n        \"std\": 0.9992330855949065,\n        \"min\": -1.6203842125853756,\n        \"max\": 4.311920127594475,\n        \"num_unique_values\": 41,\n        \"samples\": [\n          2.8288440425495125,\n          0.4559223064775723,\n          -0.8788461700628941\n        ],\n        \"semantic_type\": \"\",\n        \"description\": \"\"\n      }\n    }\n  ]\n}"
            }
          },
          "metadata": {},
          "execution_count": 36
        }
      ]
    },
    {
      "cell_type": "markdown",
      "source": [
        "# Training and Testing\n",
        "Use any suitable classifier to fit the training data and check the accuracy on test data\n",
        "\n",
        "Don't forget to import that library"
      ],
      "metadata": {
        "id": "upeKo2UVs8WH"
      }
    },
    {
      "cell_type": "markdown",
      "source": [
        "**CODE**\n",
        "\n",
        "ACCURACY should be more than 90%,\n",
        "\n",
        "1. Fit the model to X_train and y_train\n",
        "2. Find the model score on X_test and y_test"
      ],
      "metadata": {
        "id": "amPA5lMY3adM"
      }
    },
    {
      "cell_type": "code",
      "source": [
        "# START CODE HERE\n",
        "\n",
        "from sklearn.ensemble import RandomForestClassifier\n",
        "\n",
        "model = RandomForestClassifier(random_state=453)\n",
        "model.fit(X_train,y_train)\n",
        "score = model.score(X_test,y_test)\n",
        "\n",
        "# END CODE HERE\n",
        "\n",
        "print(\"Accuracy:\", score*100)"
      ],
      "metadata": {
        "id": "yei6MWgW0Si9",
        "colab": {
          "base_uri": "https://localhost:8080/"
        },
        "outputId": "29a697d3-b138-4946-a0bb-a339f3879df8"
      },
      "execution_count": 63,
      "outputs": [
        {
          "output_type": "stream",
          "name": "stdout",
          "text": [
            "Accuracy: 91.81818181818183\n"
          ]
        }
      ]
    },
    {
      "cell_type": "markdown",
      "source": [
        "**TEST** (DON'T EDIT THIS CELL)"
      ],
      "metadata": {
        "id": "gv0LHa5FuDSU"
      }
    },
    {
      "cell_type": "code",
      "source": [
        "# DON'T EDIT THIS CELL\n",
        "\n",
        "if (score>0.90):\n",
        "  print(f\"\\033[32mTest Passed\\033[0m\")\n",
        "else:\n",
        "  print(f\"\\033[31mTest Failed\\033[0m\")"
      ],
      "metadata": {
        "id": "WYopYL5MuAam",
        "colab": {
          "base_uri": "https://localhost:8080/"
        },
        "outputId": "922b9948-aa3e-4b5a-b48e-2d115e91240a"
      },
      "execution_count": 64,
      "outputs": [
        {
          "output_type": "stream",
          "name": "stdout",
          "text": [
            "\u001b[32mTest Passed\u001b[0m\n"
          ]
        }
      ]
    },
    {
      "cell_type": "markdown",
      "source": [
        "# Predicting Output (Here, Weather Type) (Optional)"
      ],
      "metadata": {
        "id": "pOnUEVEsuQlA"
      }
    },
    {
      "cell_type": "code",
      "source": [
        "input = X_test.head()\n",
        "input"
      ],
      "metadata": {
        "id": "oAvmODuFwDNl",
        "colab": {
          "base_uri": "https://localhost:8080/",
          "height": 224
        },
        "outputId": "b90bf681-49b6-450c-b5a2-6b0302fa5b99"
      },
      "execution_count": 65,
      "outputs": [
        {
          "output_type": "execute_result",
          "data": {
            "text/plain": [
              "       Cloud Cover  Season  Location  Temperature  Humidity  Wind Speed  \\\n",
              "11923          2.0     3.0       2.0    -0.985155  0.658092   -0.048086   \n",
              "2331           0.0     0.0       1.0     0.337774 -1.520829   -1.206089   \n",
              "217            0.0     2.0       0.0     1.085516 -0.381848   -0.844213   \n",
              "1760           3.0     0.0       2.0     0.625367  1.499948    1.327043   \n",
              "3963           2.0     3.0       2.0     1.430628  0.162883    1.544169   \n",
              "\n",
              "       Precipitation (%)  Atmospheric Pressure  UV Index  Visibility (km)  \n",
              "11923           1.200664             -0.223341 -0.779410        -0.878846  \n",
              "2331           -1.491435              0.584225  0.257813         0.900845  \n",
              "217            -1.616649              0.334482  0.776424         0.455922  \n",
              "1760            0.918933             -0.112046  1.813646         0.604230  \n",
              "3963            0.511987              0.196840  1.035729         1.345768  "
            ],
            "text/html": [
              "\n",
              "  <div id=\"df-29bcc817-0e36-4f3c-8fbb-02c8e4125328\" class=\"colab-df-container\">\n",
              "    <div>\n",
              "<style scoped>\n",
              "    .dataframe tbody tr th:only-of-type {\n",
              "        vertical-align: middle;\n",
              "    }\n",
              "\n",
              "    .dataframe tbody tr th {\n",
              "        vertical-align: top;\n",
              "    }\n",
              "\n",
              "    .dataframe thead th {\n",
              "        text-align: right;\n",
              "    }\n",
              "</style>\n",
              "<table border=\"1\" class=\"dataframe\">\n",
              "  <thead>\n",
              "    <tr style=\"text-align: right;\">\n",
              "      <th></th>\n",
              "      <th>Cloud Cover</th>\n",
              "      <th>Season</th>\n",
              "      <th>Location</th>\n",
              "      <th>Temperature</th>\n",
              "      <th>Humidity</th>\n",
              "      <th>Wind Speed</th>\n",
              "      <th>Precipitation (%)</th>\n",
              "      <th>Atmospheric Pressure</th>\n",
              "      <th>UV Index</th>\n",
              "      <th>Visibility (km)</th>\n",
              "    </tr>\n",
              "  </thead>\n",
              "  <tbody>\n",
              "    <tr>\n",
              "      <th>11923</th>\n",
              "      <td>2.0</td>\n",
              "      <td>3.0</td>\n",
              "      <td>2.0</td>\n",
              "      <td>-0.985155</td>\n",
              "      <td>0.658092</td>\n",
              "      <td>-0.048086</td>\n",
              "      <td>1.200664</td>\n",
              "      <td>-0.223341</td>\n",
              "      <td>-0.779410</td>\n",
              "      <td>-0.878846</td>\n",
              "    </tr>\n",
              "    <tr>\n",
              "      <th>2331</th>\n",
              "      <td>0.0</td>\n",
              "      <td>0.0</td>\n",
              "      <td>1.0</td>\n",
              "      <td>0.337774</td>\n",
              "      <td>-1.520829</td>\n",
              "      <td>-1.206089</td>\n",
              "      <td>-1.491435</td>\n",
              "      <td>0.584225</td>\n",
              "      <td>0.257813</td>\n",
              "      <td>0.900845</td>\n",
              "    </tr>\n",
              "    <tr>\n",
              "      <th>217</th>\n",
              "      <td>0.0</td>\n",
              "      <td>2.0</td>\n",
              "      <td>0.0</td>\n",
              "      <td>1.085516</td>\n",
              "      <td>-0.381848</td>\n",
              "      <td>-0.844213</td>\n",
              "      <td>-1.616649</td>\n",
              "      <td>0.334482</td>\n",
              "      <td>0.776424</td>\n",
              "      <td>0.455922</td>\n",
              "    </tr>\n",
              "    <tr>\n",
              "      <th>1760</th>\n",
              "      <td>3.0</td>\n",
              "      <td>0.0</td>\n",
              "      <td>2.0</td>\n",
              "      <td>0.625367</td>\n",
              "      <td>1.499948</td>\n",
              "      <td>1.327043</td>\n",
              "      <td>0.918933</td>\n",
              "      <td>-0.112046</td>\n",
              "      <td>1.813646</td>\n",
              "      <td>0.604230</td>\n",
              "    </tr>\n",
              "    <tr>\n",
              "      <th>3963</th>\n",
              "      <td>2.0</td>\n",
              "      <td>3.0</td>\n",
              "      <td>2.0</td>\n",
              "      <td>1.430628</td>\n",
              "      <td>0.162883</td>\n",
              "      <td>1.544169</td>\n",
              "      <td>0.511987</td>\n",
              "      <td>0.196840</td>\n",
              "      <td>1.035729</td>\n",
              "      <td>1.345768</td>\n",
              "    </tr>\n",
              "  </tbody>\n",
              "</table>\n",
              "</div>\n",
              "    <div class=\"colab-df-buttons\">\n",
              "\n",
              "  <div class=\"colab-df-container\">\n",
              "    <button class=\"colab-df-convert\" onclick=\"convertToInteractive('df-29bcc817-0e36-4f3c-8fbb-02c8e4125328')\"\n",
              "            title=\"Convert this dataframe to an interactive table.\"\n",
              "            style=\"display:none;\">\n",
              "\n",
              "  <svg xmlns=\"http://www.w3.org/2000/svg\" height=\"24px\" viewBox=\"0 -960 960 960\">\n",
              "    <path d=\"M120-120v-720h720v720H120Zm60-500h600v-160H180v160Zm220 220h160v-160H400v160Zm0 220h160v-160H400v160ZM180-400h160v-160H180v160Zm440 0h160v-160H620v160ZM180-180h160v-160H180v160Zm440 0h160v-160H620v160Z\"/>\n",
              "  </svg>\n",
              "    </button>\n",
              "\n",
              "  <style>\n",
              "    .colab-df-container {\n",
              "      display:flex;\n",
              "      gap: 12px;\n",
              "    }\n",
              "\n",
              "    .colab-df-convert {\n",
              "      background-color: #E8F0FE;\n",
              "      border: none;\n",
              "      border-radius: 50%;\n",
              "      cursor: pointer;\n",
              "      display: none;\n",
              "      fill: #1967D2;\n",
              "      height: 32px;\n",
              "      padding: 0 0 0 0;\n",
              "      width: 32px;\n",
              "    }\n",
              "\n",
              "    .colab-df-convert:hover {\n",
              "      background-color: #E2EBFA;\n",
              "      box-shadow: 0px 1px 2px rgba(60, 64, 67, 0.3), 0px 1px 3px 1px rgba(60, 64, 67, 0.15);\n",
              "      fill: #174EA6;\n",
              "    }\n",
              "\n",
              "    .colab-df-buttons div {\n",
              "      margin-bottom: 4px;\n",
              "    }\n",
              "\n",
              "    [theme=dark] .colab-df-convert {\n",
              "      background-color: #3B4455;\n",
              "      fill: #D2E3FC;\n",
              "    }\n",
              "\n",
              "    [theme=dark] .colab-df-convert:hover {\n",
              "      background-color: #434B5C;\n",
              "      box-shadow: 0px 1px 3px 1px rgba(0, 0, 0, 0.15);\n",
              "      filter: drop-shadow(0px 1px 2px rgba(0, 0, 0, 0.3));\n",
              "      fill: #FFFFFF;\n",
              "    }\n",
              "  </style>\n",
              "\n",
              "    <script>\n",
              "      const buttonEl =\n",
              "        document.querySelector('#df-29bcc817-0e36-4f3c-8fbb-02c8e4125328 button.colab-df-convert');\n",
              "      buttonEl.style.display =\n",
              "        google.colab.kernel.accessAllowed ? 'block' : 'none';\n",
              "\n",
              "      async function convertToInteractive(key) {\n",
              "        const element = document.querySelector('#df-29bcc817-0e36-4f3c-8fbb-02c8e4125328');\n",
              "        const dataTable =\n",
              "          await google.colab.kernel.invokeFunction('convertToInteractive',\n",
              "                                                    [key], {});\n",
              "        if (!dataTable) return;\n",
              "\n",
              "        const docLinkHtml = 'Like what you see? Visit the ' +\n",
              "          '<a target=\"_blank\" href=https://colab.research.google.com/notebooks/data_table.ipynb>data table notebook</a>'\n",
              "          + ' to learn more about interactive tables.';\n",
              "        element.innerHTML = '';\n",
              "        dataTable['output_type'] = 'display_data';\n",
              "        await google.colab.output.renderOutput(dataTable, element);\n",
              "        const docLink = document.createElement('div');\n",
              "        docLink.innerHTML = docLinkHtml;\n",
              "        element.appendChild(docLink);\n",
              "      }\n",
              "    </script>\n",
              "  </div>\n",
              "\n",
              "\n",
              "<div id=\"df-ebbb7306-86bd-4def-afcc-b0ef69e6c4b0\">\n",
              "  <button class=\"colab-df-quickchart\" onclick=\"quickchart('df-ebbb7306-86bd-4def-afcc-b0ef69e6c4b0')\"\n",
              "            title=\"Suggest charts\"\n",
              "            style=\"display:none;\">\n",
              "\n",
              "<svg xmlns=\"http://www.w3.org/2000/svg\" height=\"24px\"viewBox=\"0 0 24 24\"\n",
              "     width=\"24px\">\n",
              "    <g>\n",
              "        <path d=\"M19 3H5c-1.1 0-2 .9-2 2v14c0 1.1.9 2 2 2h14c1.1 0 2-.9 2-2V5c0-1.1-.9-2-2-2zM9 17H7v-7h2v7zm4 0h-2V7h2v10zm4 0h-2v-4h2v4z\"/>\n",
              "    </g>\n",
              "</svg>\n",
              "  </button>\n",
              "\n",
              "<style>\n",
              "  .colab-df-quickchart {\n",
              "      --bg-color: #E8F0FE;\n",
              "      --fill-color: #1967D2;\n",
              "      --hover-bg-color: #E2EBFA;\n",
              "      --hover-fill-color: #174EA6;\n",
              "      --disabled-fill-color: #AAA;\n",
              "      --disabled-bg-color: #DDD;\n",
              "  }\n",
              "\n",
              "  [theme=dark] .colab-df-quickchart {\n",
              "      --bg-color: #3B4455;\n",
              "      --fill-color: #D2E3FC;\n",
              "      --hover-bg-color: #434B5C;\n",
              "      --hover-fill-color: #FFFFFF;\n",
              "      --disabled-bg-color: #3B4455;\n",
              "      --disabled-fill-color: #666;\n",
              "  }\n",
              "\n",
              "  .colab-df-quickchart {\n",
              "    background-color: var(--bg-color);\n",
              "    border: none;\n",
              "    border-radius: 50%;\n",
              "    cursor: pointer;\n",
              "    display: none;\n",
              "    fill: var(--fill-color);\n",
              "    height: 32px;\n",
              "    padding: 0;\n",
              "    width: 32px;\n",
              "  }\n",
              "\n",
              "  .colab-df-quickchart:hover {\n",
              "    background-color: var(--hover-bg-color);\n",
              "    box-shadow: 0 1px 2px rgba(60, 64, 67, 0.3), 0 1px 3px 1px rgba(60, 64, 67, 0.15);\n",
              "    fill: var(--button-hover-fill-color);\n",
              "  }\n",
              "\n",
              "  .colab-df-quickchart-complete:disabled,\n",
              "  .colab-df-quickchart-complete:disabled:hover {\n",
              "    background-color: var(--disabled-bg-color);\n",
              "    fill: var(--disabled-fill-color);\n",
              "    box-shadow: none;\n",
              "  }\n",
              "\n",
              "  .colab-df-spinner {\n",
              "    border: 2px solid var(--fill-color);\n",
              "    border-color: transparent;\n",
              "    border-bottom-color: var(--fill-color);\n",
              "    animation:\n",
              "      spin 1s steps(1) infinite;\n",
              "  }\n",
              "\n",
              "  @keyframes spin {\n",
              "    0% {\n",
              "      border-color: transparent;\n",
              "      border-bottom-color: var(--fill-color);\n",
              "      border-left-color: var(--fill-color);\n",
              "    }\n",
              "    20% {\n",
              "      border-color: transparent;\n",
              "      border-left-color: var(--fill-color);\n",
              "      border-top-color: var(--fill-color);\n",
              "    }\n",
              "    30% {\n",
              "      border-color: transparent;\n",
              "      border-left-color: var(--fill-color);\n",
              "      border-top-color: var(--fill-color);\n",
              "      border-right-color: var(--fill-color);\n",
              "    }\n",
              "    40% {\n",
              "      border-color: transparent;\n",
              "      border-right-color: var(--fill-color);\n",
              "      border-top-color: var(--fill-color);\n",
              "    }\n",
              "    60% {\n",
              "      border-color: transparent;\n",
              "      border-right-color: var(--fill-color);\n",
              "    }\n",
              "    80% {\n",
              "      border-color: transparent;\n",
              "      border-right-color: var(--fill-color);\n",
              "      border-bottom-color: var(--fill-color);\n",
              "    }\n",
              "    90% {\n",
              "      border-color: transparent;\n",
              "      border-bottom-color: var(--fill-color);\n",
              "    }\n",
              "  }\n",
              "</style>\n",
              "\n",
              "  <script>\n",
              "    async function quickchart(key) {\n",
              "      const quickchartButtonEl =\n",
              "        document.querySelector('#' + key + ' button');\n",
              "      quickchartButtonEl.disabled = true;  // To prevent multiple clicks.\n",
              "      quickchartButtonEl.classList.add('colab-df-spinner');\n",
              "      try {\n",
              "        const charts = await google.colab.kernel.invokeFunction(\n",
              "            'suggestCharts', [key], {});\n",
              "      } catch (error) {\n",
              "        console.error('Error during call to suggestCharts:', error);\n",
              "      }\n",
              "      quickchartButtonEl.classList.remove('colab-df-spinner');\n",
              "      quickchartButtonEl.classList.add('colab-df-quickchart-complete');\n",
              "    }\n",
              "    (() => {\n",
              "      let quickchartButtonEl =\n",
              "        document.querySelector('#df-ebbb7306-86bd-4def-afcc-b0ef69e6c4b0 button');\n",
              "      quickchartButtonEl.style.display =\n",
              "        google.colab.kernel.accessAllowed ? 'block' : 'none';\n",
              "    })();\n",
              "  </script>\n",
              "</div>\n",
              "\n",
              "  <div id=\"id_0dbe31eb-2d0e-4d3f-8722-8afec0fe2f3e\">\n",
              "    <style>\n",
              "      .colab-df-generate {\n",
              "        background-color: #E8F0FE;\n",
              "        border: none;\n",
              "        border-radius: 50%;\n",
              "        cursor: pointer;\n",
              "        display: none;\n",
              "        fill: #1967D2;\n",
              "        height: 32px;\n",
              "        padding: 0 0 0 0;\n",
              "        width: 32px;\n",
              "      }\n",
              "\n",
              "      .colab-df-generate:hover {\n",
              "        background-color: #E2EBFA;\n",
              "        box-shadow: 0px 1px 2px rgba(60, 64, 67, 0.3), 0px 1px 3px 1px rgba(60, 64, 67, 0.15);\n",
              "        fill: #174EA6;\n",
              "      }\n",
              "\n",
              "      [theme=dark] .colab-df-generate {\n",
              "        background-color: #3B4455;\n",
              "        fill: #D2E3FC;\n",
              "      }\n",
              "\n",
              "      [theme=dark] .colab-df-generate:hover {\n",
              "        background-color: #434B5C;\n",
              "        box-shadow: 0px 1px 3px 1px rgba(0, 0, 0, 0.15);\n",
              "        filter: drop-shadow(0px 1px 2px rgba(0, 0, 0, 0.3));\n",
              "        fill: #FFFFFF;\n",
              "      }\n",
              "    </style>\n",
              "    <button class=\"colab-df-generate\" onclick=\"generateWithVariable('input')\"\n",
              "            title=\"Generate code using this dataframe.\"\n",
              "            style=\"display:none;\">\n",
              "\n",
              "  <svg xmlns=\"http://www.w3.org/2000/svg\" height=\"24px\"viewBox=\"0 0 24 24\"\n",
              "       width=\"24px\">\n",
              "    <path d=\"M7,19H8.4L18.45,9,17,7.55,7,17.6ZM5,21V16.75L18.45,3.32a2,2,0,0,1,2.83,0l1.4,1.43a1.91,1.91,0,0,1,.58,1.4,1.91,1.91,0,0,1-.58,1.4L9.25,21ZM18.45,9,17,7.55Zm-12,3A5.31,5.31,0,0,0,4.9,8.1,5.31,5.31,0,0,0,1,6.5,5.31,5.31,0,0,0,4.9,4.9,5.31,5.31,0,0,0,6.5,1,5.31,5.31,0,0,0,8.1,4.9,5.31,5.31,0,0,0,12,6.5,5.46,5.46,0,0,0,6.5,12Z\"/>\n",
              "  </svg>\n",
              "    </button>\n",
              "    <script>\n",
              "      (() => {\n",
              "      const buttonEl =\n",
              "        document.querySelector('#id_0dbe31eb-2d0e-4d3f-8722-8afec0fe2f3e button.colab-df-generate');\n",
              "      buttonEl.style.display =\n",
              "        google.colab.kernel.accessAllowed ? 'block' : 'none';\n",
              "\n",
              "      buttonEl.onclick = () => {\n",
              "        google.colab.notebook.generateWithVariable('input');\n",
              "      }\n",
              "      })();\n",
              "    </script>\n",
              "  </div>\n",
              "\n",
              "    </div>\n",
              "  </div>\n"
            ],
            "application/vnd.google.colaboratory.intrinsic+json": {
              "type": "dataframe",
              "variable_name": "input",
              "summary": "{\n  \"name\": \"input\",\n  \"rows\": 5,\n  \"fields\": [\n    {\n      \"column\": \"Cloud Cover\",\n      \"properties\": {\n        \"dtype\": \"number\",\n        \"std\": 1.3416407864998738,\n        \"min\": 0.0,\n        \"max\": 3.0,\n        \"num_unique_values\": 3,\n        \"samples\": [\n          2.0,\n          0.0,\n          3.0\n        ],\n        \"semantic_type\": \"\",\n        \"description\": \"\"\n      }\n    },\n    {\n      \"column\": \"Season\",\n      \"properties\": {\n        \"dtype\": \"number\",\n        \"std\": 1.5165750888103102,\n        \"min\": 0.0,\n        \"max\": 3.0,\n        \"num_unique_values\": 3,\n        \"samples\": [\n          3.0,\n          0.0,\n          2.0\n        ],\n        \"semantic_type\": \"\",\n        \"description\": \"\"\n      }\n    },\n    {\n      \"column\": \"Location\",\n      \"properties\": {\n        \"dtype\": \"number\",\n        \"std\": 0.8944271909999159,\n        \"min\": 0.0,\n        \"max\": 2.0,\n        \"num_unique_values\": 3,\n        \"samples\": [\n          2.0,\n          1.0,\n          0.0\n        ],\n        \"semantic_type\": \"\",\n        \"description\": \"\"\n      }\n    },\n    {\n      \"column\": \"Temperature\",\n      \"properties\": {\n        \"dtype\": \"number\",\n        \"std\": 0.9295980507358882,\n        \"min\": -0.9851548850823079,\n        \"max\": 1.4306280464370895,\n        \"num_unique_values\": 5,\n        \"samples\": [\n          0.33777386313069546,\n          1.4306280464370895,\n          1.0855161990771756\n        ],\n        \"semantic_type\": \"\",\n        \"description\": \"\"\n      }\n    },\n    {\n      \"column\": \"Humidity\",\n      \"properties\": {\n        \"dtype\": \"number\",\n        \"std\": 1.1328284076770332,\n        \"min\": -1.520828928650028,\n        \"max\": 1.499947604527246,\n        \"num_unique_values\": 5,\n        \"samples\": [\n          -1.520828928650028,\n          0.16288258164550173,\n          -0.3818476128618756\n        ],\n        \"semantic_type\": \"\",\n        \"description\": \"\"\n      }\n    },\n    {\n      \"column\": \"Wind Speed\",\n      \"properties\": {\n        \"dtype\": \"number\",\n        \"std\": 1.2445590950676275,\n        \"min\": -1.2060890769749173,\n        \"max\": 1.5441690537275354,\n        \"num_unique_values\": 5,\n        \"samples\": [\n          -1.2060890769749173,\n          1.5441690537275354,\n          -0.8442130071456472\n        ],\n        \"semantic_type\": \"\",\n        \"description\": \"\"\n      }\n    },\n    {\n      \"column\": \"Precipitation (%)\",\n      \"properties\": {\n        \"dtype\": \"number\",\n        \"std\": 1.3546849708448214,\n        \"min\": -1.6166492218814177,\n        \"max\": 1.2006639242477413,\n        \"num_unique_values\": 5,\n        \"samples\": [\n          -1.4914353042756774,\n          0.511987377416169,\n          -1.6166492218814177\n        ],\n        \"semantic_type\": \"\",\n        \"description\": \"\"\n      }\n    },\n    {\n      \"column\": \"Atmospheric Pressure\",\n      \"properties\": {\n        \"dtype\": \"number\",\n        \"std\": 0.3288801555172493,\n        \"min\": -0.2233414726867295,\n        \"max\": 0.5842249277842624,\n        \"num_unique_values\": 5,\n        \"samples\": [\n          0.5842249277842624,\n          0.19684037948908992,\n          0.334481523643933\n        ],\n        \"semantic_type\": \"\",\n        \"description\": \"\"\n      }\n    },\n    {\n      \"column\": \"UV Index\",\n      \"properties\": {\n        \"dtype\": \"number\",\n        \"std\": 0.9632773680165212,\n        \"min\": -0.7794096237565749,\n        \"max\": 1.813645884255016,\n        \"num_unique_values\": 5,\n        \"samples\": [\n          0.25781257944806146,\n          1.0357292318515388,\n          0.7764236810503796\n        ],\n        \"semantic_type\": \"\",\n        \"description\": \"\"\n      }\n    },\n    {\n      \"column\": \"Visibility (km)\",\n      \"properties\": {\n        \"dtype\": \"number\",\n        \"std\": 0.8350126655735451,\n        \"min\": -0.8788461700628941,\n        \"max\": 1.3457679575045498,\n        \"num_unique_values\": 5,\n        \"samples\": [\n          0.9008451319910611,\n          1.3457679575045498,\n          0.4559223064775723\n        ],\n        \"semantic_type\": \"\",\n        \"description\": \"\"\n      }\n    }\n  ]\n}"
            }
          },
          "metadata": {},
          "execution_count": 65
        }
      ]
    },
    {
      "cell_type": "code",
      "source": [
        "y = model.predict(input)\n",
        "y"
      ],
      "metadata": {
        "id": "jZAkEyqUONIc",
        "colab": {
          "base_uri": "https://localhost:8080/"
        },
        "outputId": "437cb42d-5dfc-4bd9-be3f-8a67147ef956"
      },
      "execution_count": 66,
      "outputs": [
        {
          "output_type": "execute_result",
          "data": {
            "text/plain": [
              "array([2., 3., 3., 0., 0.])"
            ]
          },
          "metadata": {},
          "execution_count": 66
        }
      ]
    },
    {
      "cell_type": "markdown",
      "source": [
        "Here, the outputs are in numbers. We can perform inverse column transfer for getiing the string values.\n"
      ],
      "metadata": {
        "id": "zuNM1UNPyY7p"
      }
    },
    {
      "cell_type": "code",
      "source": [
        "enc=OrdinalEncoder()\n",
        "enc.fit(data['Weather Type'].values.reshape(-1,1))\n",
        "enc.inverse_transform(y.reshape(-1,1)).flatten()"
      ],
      "metadata": {
        "colab": {
          "base_uri": "https://localhost:8080/"
        },
        "id": "fOeb8W3taeNj",
        "outputId": "dab2fb08-ad60-439f-c868-880ce791c640"
      },
      "execution_count": 77,
      "outputs": [
        {
          "output_type": "execute_result",
          "data": {
            "text/plain": [
              "array(['Snowy', 'Sunny', 'Sunny', 'Cloudy', 'Cloudy'], dtype=object)"
            ]
          },
          "metadata": {},
          "execution_count": 77
        }
      ]
    }
  ]
}